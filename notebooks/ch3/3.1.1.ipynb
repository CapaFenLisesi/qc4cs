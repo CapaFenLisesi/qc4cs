{
 "cells": [
  {
   "cell_type": "markdown",
   "metadata": {},
   "source": [
    "# Programming Drill 3.1.1 Write a program that performs our little marble experiment. The program should allow the user to enter a Boolean matrix that describes the ways that marbles move. Make sure that the matrix follows our requirement. The user should also be permitted to enter a starting state of how many marbles are on each vertex. Then the user enters how many time clicks she wants to proceed. The computer should then calculate and output the state of the system after those time clicks. We will make changes to this program later in the chapter\n",
    "\n",
    "Yanofsky, Noson S.. Quantum Computing for Computer Scientists (p. 79). Cambridge University Press. Kindle Edition. "
   ]
  },
  {
   "cell_type": "markdown",
   "metadata": {},
   "source": [
    "This one is a bit tricky to be executed as described in the heading. But it will be nice to have interactive elements and graphs in it. So before we jump into the actual code to change the state, I will use ipywidgets and networkx to get input from the user and then render it as graph"
   ]
  },
  {
   "cell_type": "code",
   "execution_count": 107,
   "metadata": {},
   "outputs": [],
   "source": [
    "import numpy as np\n",
    "from numpy.linalg import matrix_power\n",
    "import matplotlib.pyplot as plt\n",
    "import networkx as nx\n",
    "\n",
    "%matplotlib inline"
   ]
  },
  {
   "cell_type": "code",
   "execution_count": 108,
   "metadata": {},
   "outputs": [],
   "source": [
    "def draw_graph_from_np_array(array):\n",
    "    G = nx.from_numpy_matrix(array, create_using=nx.MultiDiGraph())\n",
    "    G.graph['edge'] = {'arrowsize': '0.6', 'splines': 'curved'}\n",
    "    G.graph['graph'] = {'scale': '3'}\n",
    "    pos = nx.circular_layout(G)\n",
    "    nx.draw_circular(G)\n",
    "    labels = {i : i for i in G.nodes()}\n",
    "    nx.draw_networkx_labels(G, pos, labels, font_size=15)\n",
    "    plt.show()"
   ]
  },
  {
   "cell_type": "code",
   "execution_count": 109,
   "metadata": {},
   "outputs": [
    {
     "data": {
      "image/png": "[encoded data removed]",
      "text/plain": [
       "<Figure size 432x288 with 1 Axes>"
      ]
     },
     "metadata": {},
     "output_type": "display_data"
    }
   ],
   "source": [
    "M = [[0, 0, 0, 0, 0, 0],\n",
    "     [0, 0, 0, 0, 0, 0],\n",
    "     [0, 1, 0, 0, 0, 1],\n",
    "     [0, 0, 0, 1, 0, 0],\n",
    "     [0, 0, 1, 0, 0, 0],\n",
    "     [1, 0, 0, 0, 1, 0]]\n",
    "a = np.array(M)\n",
    "# We have to make a transpose as in our case if there is a 1 at (i, j) this will mean an edge from j to i\n",
    "draw_graph_from_np_array(a.transpose())"
   ]
  },
  {
   "cell_type": "markdown",
   "metadata": {},
   "source": [
    "I couldn't figure out an easy way to draw self loops in networkx + matplotlib. There are some ways which use pygraphviz or similar library but I am not super familiar with them and I couldn't make them work easily"
   ]
  },
  {
   "cell_type": "markdown",
   "metadata": {},
   "source": [
    "Now for the actual programming drill"
   ]
  },
  {
   "cell_type": "code",
   "execution_count": 110,
   "metadata": {},
   "outputs": [],
   "source": [
    "def change_state(M, init_state, time_click):\n",
    "    sums = np.sum(M, axis=0)\n",
    "    if np.max(sums) > 1:\n",
    "        print(\"The matrix does not comply to our need\")\n",
    "        return None\n",
    "    final_matrix = matrix_power(M, time_click)\n",
    "    return np.matmul(final_matrix, init_state.transpose()).transpose()"
   ]
  },
  {
   "cell_type": "code",
   "execution_count": 111,
   "metadata": {},
   "outputs": [],
   "source": [
    "M = [[0, 0, 0, 0, 0, 0],\n",
    "     [0, 0, 0, 0, 0, 0],\n",
    "     [0, 1, 0, 0, 0, 1],\n",
    "     [0, 0, 0, 1, 0, 0],\n",
    "     [0, 0, 1, 0, 0, 0],\n",
    "     [1, 0, 0, 0, 1, 0]]\n",
    "a = np.array(M)\n",
    "init = np.array([[6, 2, 1, 5, 3, 10]])"
   ]
  },
  {
   "cell_type": "markdown",
   "metadata": {},
   "source": [
    "### With one time click"
   ]
  },
  {
   "cell_type": "code",
   "execution_count": 112,
   "metadata": {},
   "outputs": [
    {
     "data": {
      "text/plain": [
       "array([[ 0],\n",
       "       [ 0],\n",
       "       [12],\n",
       "       [ 5],\n",
       "       [ 1],\n",
       "       [ 9]])"
      ]
     },
     "execution_count": 112,
     "metadata": {},
     "output_type": "execute_result"
    }
   ],
   "source": [
    "change_state(a, init, 1).transpose()"
   ]
  },
  {
   "cell_type": "code",
   "execution_count": 113,
   "metadata": {},
   "outputs": [
    {
     "data": {
      "text/plain": [
       "array([[ 0],\n",
       "       [ 0],\n",
       "       [20],\n",
       "       [ 2],\n",
       "       [ 0],\n",
       "       [ 5]])"
      ]
     },
     "execution_count": 113,
     "metadata": {},
     "output_type": "execute_result"
    }
   ],
   "source": [
    "change_state(a, np.array([[5, 5, 0, 2, 0, 15]]), 1).transpose()"
   ]
  },
  {
   "cell_type": "markdown",
   "metadata": {},
   "source": [
    "### With two time click"
   ]
  },
  {
   "cell_type": "code",
   "execution_count": 114,
   "metadata": {},
   "outputs": [
    {
     "data": {
      "text/plain": [
       "array([[ 0],\n",
       "       [ 0],\n",
       "       [ 9],\n",
       "       [ 5],\n",
       "       [12],\n",
       "       [ 1]])"
      ]
     },
     "execution_count": 114,
     "metadata": {},
     "output_type": "execute_result"
    }
   ],
   "source": [
    "change_state(a, init, 2).transpose()"
   ]
  },
  {
   "cell_type": "markdown",
   "metadata": {},
   "source": [
    "### With three time clicks"
   ]
  },
  {
   "cell_type": "code",
   "execution_count": 115,
   "metadata": {},
   "outputs": [
    {
     "data": {
      "text/plain": [
       "array([[ 0],\n",
       "       [ 0],\n",
       "       [ 1],\n",
       "       [ 5],\n",
       "       [ 9],\n",
       "       [12]])"
      ]
     },
     "execution_count": 115,
     "metadata": {},
     "output_type": "execute_result"
    }
   ],
   "source": [
    "change_state(a, init, 3).transpose()"
   ]
  }
 ],
 "metadata": {
  "kernelspec": {
   "display_name": "Python 3",
   "language": "python",
   "name": "python3"
  },
  "language_info": {
   "codemirror_mode": {
    "name": "ipython",
    "version": 3
   },
   "file_extension": ".py",
   "mimetype": "text/x-python",
   "name": "python",
   "nbconvert_exporter": "python",
   "pygments_lexer": "ipython3",
   "version": "3.6.5"
  }
 },
 "nbformat": 4,
 "nbformat_minor": 2
}
