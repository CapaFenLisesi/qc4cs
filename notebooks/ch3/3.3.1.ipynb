{
 "cells": [
  {
   "cell_type": "markdown",
   "metadata": {},
   "source": [
    "# Programming Drill 3.3.1 Modify your program from Programming Drill 3.2.1 so that you allow the entries to be complex numbers as opposed to fractions.\n",
    "\n",
    "Yanofsky, Noson S.. Quantum Computing for Computer Scientists (p. 97). Cambridge University Press. Kindle Edition. "
   ]
  },
  {
   "cell_type": "markdown",
   "metadata": {},
   "source": [
    "We practically do not need to do anything for that. As we are using numpy. Let's copy the functions from 3.2.1"
   ]
  },
  {
   "cell_type": "code",
   "execution_count": 1,
   "metadata": {},
   "outputs": [],
   "source": [
    "import numpy as np\n",
    "from numpy.linalg import matrix_power"
   ]
  },
  {
   "cell_type": "code",
   "execution_count": 2,
   "metadata": {},
   "outputs": [],
   "source": [
    "def change_state(M, init_state, time_click, doubly_stochastic=True):\n",
    "    if doubly_stochastic:\n",
    "        col_sums = np.sum(M, axis=0)\n",
    "        if np.max(col_sums) > 1:\n",
    "            print(\"The matrix does not comply to our need, because of columns\")\n",
    "            return None\n",
    "        row_sums = np.sum(M, axis=1)\n",
    "        if np.max(row_sums) > 1:\n",
    "            print(\"The matrix does not comply to our need, because of rows\")\n",
    "            return None\n",
    "    final_matrix = matrix_power(M, time_click)\n",
    "    return np.matmul(final_matrix, init_state.transpose()).transpose()"
   ]
  },
  {
   "cell_type": "code",
   "execution_count": 17,
   "metadata": {},
   "outputs": [],
   "source": [
    "def construct_transition_matrix(slits_and_targets):\n",
    "    tm = []\n",
    "    slit_probs = slits_and_targets[0]\n",
    "    target_probs = slits_and_targets[1]\n",
    "    \n",
    "    dimension = len(slit_probs) + 1\n",
    "    \n",
    "    for i, x in enumerate(target_probs):\n",
    "        if i % 2 == 0:\n",
    "            dimension += len(x)\n",
    "        else:\n",
    "            dimension += 1\n",
    "    \n",
    "    trm = np.zeros((dimension, dimension), dtype=np.complex128)\n",
    "    target_row_start = 0\n",
    "    \n",
    "    for i, slit in enumerate(slit_probs):\n",
    "        trm[i+1][0] = slit\n",
    "        target_row_start += 1\n",
    "    \n",
    "    target_row_start += 1\n",
    "    target_col_start = 1\n",
    "    target_dig_row_start = target_row_start\n",
    "    \n",
    "    for i, tp in enumerate(target_probs):\n",
    "        if i % 2 == 0:\n",
    "            for t in tp:\n",
    "                trm[target_row_start][target_col_start] = t\n",
    "                target_row_start += 1\n",
    "        else:\n",
    "            for j, t in enumerate(tp):\n",
    "                trm[target_row_start][target_col_start+j] = t\n",
    "            target_col_start += 1\n",
    "            target_row_start += 1\n",
    "    \n",
    "    m = target_dig_row_start\n",
    "    for i in range(m, dimension):\n",
    "        trm[target_dig_row_start][target_dig_row_start] = 1\n",
    "        target_dig_row_start += 1\n",
    "    \n",
    "    return trm"
   ]
  },
  {
   "cell_type": "code",
   "execution_count": 18,
   "metadata": {},
   "outputs": [],
   "source": [
    "import math\n",
    "one_by_root_two = 1.0/math.sqrt(2)\n",
    "root_six = math.sqrt(6)"
   ]
  },
  {
   "cell_type": "code",
   "execution_count": 19,
   "metadata": {},
   "outputs": [],
   "source": [
    "P = construct_transition_matrix([[one_by_root_two, one_by_root_two],\n",
    "                               [[(-1+1j)/root_six, (-1-1j)/root_six],\n",
    "                                [(1-1j)/root_six, (-1+1j)/root_six],\n",
    "                                [(-1-1j)/root_six, (1-1j)/root_six]]])"
   ]
  },
  {
   "cell_type": "code",
   "execution_count": 53,
   "metadata": {},
   "outputs": [
    {
     "data": {
      "text/plain": [
       "array([[ 0.        +0.j        ,  0.        +0.j        ,\n",
       "         0.        +0.j        ,  0.        +0.j        ,\n",
       "         0.        +0.j        ,  0.        +0.j        ,\n",
       "         0.        +0.j        ,  0.        +0.j        ],\n",
       "       [ 0.70710678+0.j        ,  0.        +0.j        ,\n",
       "         0.        +0.j        ,  0.        +0.j        ,\n",
       "         0.        +0.j        ,  0.        +0.j        ,\n",
       "         0.        +0.j        ,  0.        +0.j        ],\n",
       "       [ 0.70710678+0.j        ,  0.        +0.j        ,\n",
       "         0.        +0.j        ,  0.        +0.j        ,\n",
       "         0.        +0.j        ,  0.        +0.j        ,\n",
       "         0.        +0.j        ,  0.        +0.j        ],\n",
       "       [ 0.        +0.j        , -0.40824829+0.40824829j,\n",
       "         0.        +0.j        ,  1.        +0.j        ,\n",
       "         0.        +0.j        ,  0.        +0.j        ,\n",
       "         0.        +0.j        ,  0.        +0.j        ],\n",
       "       [ 0.        +0.j        , -0.40824829-0.40824829j,\n",
       "         0.        +0.j        ,  0.        +0.j        ,\n",
       "         1.        +0.j        ,  0.        +0.j        ,\n",
       "         0.        +0.j        ,  0.        +0.j        ],\n",
       "       [ 0.        +0.j        ,  0.40824829-0.40824829j,\n",
       "        -0.40824829+0.40824829j,  0.        +0.j        ,\n",
       "         0.        +0.j        ,  1.        +0.j        ,\n",
       "         0.        +0.j        ,  0.        +0.j        ],\n",
       "       [ 0.        +0.j        ,  0.        +0.j        ,\n",
       "        -0.40824829-0.40824829j,  0.        +0.j        ,\n",
       "         0.        +0.j        ,  0.        +0.j        ,\n",
       "         1.        +0.j        ,  0.        +0.j        ],\n",
       "       [ 0.        +0.j        ,  0.        +0.j        ,\n",
       "         0.40824829-0.40824829j,  0.        +0.j        ,\n",
       "         0.        +0.j        ,  0.        +0.j        ,\n",
       "         0.        +0.j        ,  1.        +0.j        ]])"
      ]
     },
     "execution_count": 53,
     "metadata": {},
     "output_type": "execute_result"
    }
   ],
   "source": [
    "P"
   ]
  },
  {
   "cell_type": "code",
   "execution_count": 54,
   "metadata": {},
   "outputs": [],
   "source": [
    "P_sq = matrix_power(P, 2).transpose()"
   ]
  },
  {
   "cell_type": "code",
   "execution_count": 55,
   "metadata": {},
   "outputs": [
    {
     "data": {
      "text/plain": [
       "(8, 8)"
      ]
     },
     "execution_count": 55,
     "metadata": {},
     "output_type": "execute_result"
    }
   ],
   "source": [
    "P_sq.shape"
   ]
  },
  {
   "cell_type": "code",
   "execution_count": 56,
   "metadata": {},
   "outputs": [
    {
     "data": {
      "text/plain": [
       "0j"
      ]
     },
     "execution_count": 56,
     "metadata": {},
     "output_type": "execute_result"
    }
   ],
   "source": [
    "P_sq[5, 0]"
   ]
  },
  {
   "cell_type": "code",
   "execution_count": 57,
   "metadata": {},
   "outputs": [],
   "source": [
    "import matplotlib.pyplot as plt\n",
    "import networkx as nx\n",
    "\n",
    "%matplotlib inline"
   ]
  },
  {
   "cell_type": "code",
   "execution_count": 58,
   "metadata": {},
   "outputs": [],
   "source": [
    "def draw_graph_from_np_array(array):\n",
    "    G = nx.from_numpy_matrix(array, create_using=nx.MultiDiGraph())\n",
    "    G.graph['edge'] = {'arrowsize': '0.6', 'splines': 'curved'}\n",
    "    G.graph['graph'] = {'scale': '3'}\n",
    "    pos = nx.circular_layout(G)\n",
    "    nx.draw_circular(G)\n",
    "    labels = {i : i for i in G.nodes()}\n",
    "    nx.draw_networkx_labels(G, pos, labels, font_size=15)\n",
    "    plt.show()"
   ]
  },
  {
   "cell_type": "code",
   "execution_count": 59,
   "metadata": {},
   "outputs": [
    {
     "data": {
      "image/png": "[encoded data removed]",
      "text/plain": [
       "<Figure size 432x288 with 1 Axes>"
      ]
     },
     "metadata": {},
     "output_type": "display_data"
    }
   ],
   "source": [
    "draw_graph_from_np_array(P.transpose())"
   ]
  },
  {
   "cell_type": "code",
   "execution_count": null,
   "metadata": {},
   "outputs": [],
   "source": []
  }
 ],
 "metadata": {
  "kernelspec": {
   "display_name": "Python 3",
   "language": "python",
   "name": "python3"
  },
  "language_info": {
   "codemirror_mode": {
    "name": "ipython",
    "version": 3
   },
   "file_extension": ".py",
   "mimetype": "text/x-python",
   "name": "python",
   "nbconvert_exporter": "python",
   "pygments_lexer": "ipython3",
   "version": "3.6.5"
  }
 },
 "nbformat": 4,
 "nbformat_minor": 2
}
