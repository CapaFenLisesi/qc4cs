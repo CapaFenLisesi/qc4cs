{
 "cells": [
  {
   "cell_type": "markdown",
   "metadata": {},
   "source": [
    "# Programming Drill 2.6.2 Write a function that accepts a square matrix and tells if it is unitary.\n",
    "Yanofsky, Noson S.. Quantum Computing for Computer Scientists (p. 66). Cambridge University Press. Kindle Edition. "
   ]
  },
  {
   "cell_type": "markdown",
   "metadata": {},
   "source": [
    "Extending from the previous one. We just need to check -\n",
    "\n",
    "$ U^\\dagger * U = I = U * U^\\dagger $\n",
    "\n",
    "For a good measure we will throw in a dimensionality check as well. $ U $ need to be a square matrix for this thing to happen"
   ]
  },
  {
   "cell_type": "code",
   "execution_count": 1,
   "metadata": {},
   "outputs": [],
   "source": [
    "import numpy as np"
   ]
  },
  {
   "cell_type": "code",
   "execution_count": 26,
   "metadata": {},
   "outputs": [],
   "source": [
    "class Vector(object):\n",
    "    \"\"\"\n",
    "    Similar like the previous chapter examples, we define a Vector class now\n",
    "    \n",
    "    The method names and their work is self explainatory\n",
    "    \"\"\"\n",
    "    def __init__(self, elements: list):\n",
    "        self.vector = np.array(elements)\n",
    "    \n",
    "    def __add__(self, other):\n",
    "        \"\"\"\n",
    "        Over-riding the '+' operation for vectors\n",
    "        \"\"\"\n",
    "        return Vector(self.vector + other.vector)\n",
    "    \n",
    "    def __sub__(self, other):\n",
    "        return Vector(self.vector - other.vector)\n",
    "    \n",
    "    def __str__(self):\n",
    "        st = np.array2string(self.vector, separator=',')\n",
    "        \n",
    "        return \"Vector \"+st\n",
    "    \n",
    "    def __radd__(self, other):\n",
    "        \"\"\"\n",
    "        And the reverse add operation as well.\n",
    "        \"\"\"\n",
    "        return Vector(self.vector + other)\n",
    "    \n",
    "    def __mul__(self, other):\n",
    "        \"\"\"\n",
    "        Over-riding the * operation\n",
    "        \"\"\"\n",
    "        rows1, cols1 = self.vector.shape\n",
    "        rows2, cols2 = other.vector.shape\n",
    "        if cols1 != rows2:\n",
    "            print (\"The dimentions {} and {} can not be multiplied\".format(self.vector.shape, other.vector.shape))\n",
    "            return None\n",
    "        return Vector(np.matmul(self.vector, other.vector))\n",
    "    \n",
    "    def scalar_multiply(self, scalar):\n",
    "        return Vector(scalar * self.vector)\n",
    "    \n",
    "    def additive_inverse(self):\n",
    "        return Vector(self.scalar_multiply(-1))\n",
    "    \n",
    "    def dim(self):\n",
    "        return self.vector.shape\n",
    "    \n",
    "    def t(self):\n",
    "        \"\"\"\n",
    "        Stealing from PyTorch :)\n",
    "        \"\"\"\n",
    "        return Vector(self.vector.transpose())\n",
    "    \n",
    "    def dagger(self):\n",
    "        return Vector(self.vector.transpose().conjugate())\n",
    "    \n",
    "    def inner(self, other):\n",
    "        \"\"\"\n",
    "        By definition it returns a scalar.\n",
    "        \"\"\"\n",
    "        inp = self.dagger() * other\n",
    "        return inp.vector[0, 0]\n",
    "    \n",
    "    def norm(self):\n",
    "        \"\"\"\n",
    "        Using the default Frobenius norm\n",
    "        \"\"\"\n",
    "        return np.linalg.norm(self.vector)\n",
    "    \n",
    "    def dist(self, other):\n",
    "        return (self - other).norm()\n",
    "    \n",
    "    def is_hermitian(self):\n",
    "        \"\"\"\n",
    "        Using numpy `all`\n",
    "        \"\"\"\n",
    "        daggered = self.dagger()\n",
    "        return (self.vector == daggered.vector).all()\n",
    "    \n",
    "    def is_unitary(self):\n",
    "        rows, cols = self.vector.shape\n",
    "        if rows != cols:\n",
    "            print(\"Can not check unitary on non square matrix\")\n",
    "            return False\n",
    "        u_udag = self * self.dagger()\n",
    "        udag_u = self.dagger() * self\n",
    "        identity = np.identity(rows, dtype=np.complex128)\n",
    "        return (u_udag.vector == identity).all() and (identity == udag_u.vector).all()"
   ]
  },
  {
   "cell_type": "code",
   "execution_count": 60,
   "metadata": {},
   "outputs": [
    {
     "data": {
      "text/plain": [
       "True"
      ]
     },
     "execution_count": 60,
     "metadata": {},
     "output_type": "execute_result"
    }
   ],
   "source": [
    "M = Vector([[1+1j , 1-1j],[1-1j, 1+1j]])\n",
    "N = M.scalar_multiply(0.5)\n",
    "N.is_unitary()"
   ]
  },
  {
   "cell_type": "markdown",
   "metadata": {},
   "source": [
    "indeed $ \\frac{1}{2} * \\begin{bmatrix}1+i & 1-i\\\\1-i & 1+i\\end{bmatrix} $ is an `Unitary` Matrix"
   ]
  }
 ],
 "metadata": {
  "kernelspec": {
   "display_name": "Python 3",
   "language": "python",
   "name": "python3"
  },
  "language_info": {
   "codemirror_mode": {
    "name": "ipython",
    "version": 3
   },
   "file_extension": ".py",
   "mimetype": "text/x-python",
   "name": "python",
   "nbconvert_exporter": "python",
   "pygments_lexer": "ipython3",
   "version": "3.6.5"
  }
 },
 "nbformat": 4,
 "nbformat_minor": 2
}
