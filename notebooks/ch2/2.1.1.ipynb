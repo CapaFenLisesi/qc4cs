{
 "cells": [
  {
   "cell_type": "markdown",
   "metadata": {},
   "source": [
    "# Programming Drill 2.1.1 Write three functions that perform the addition, inverse, and scalar multiplication operations for , i.e., write a function that accepts the appropriate input for each of the operations and outputs the vector.\n",
    "\n",
    "Yanofsky, Noson S.. Quantum Computing for Computer Scientists (p. 34). Cambridge University Press. Kindle Edition. "
   ]
  },
  {
   "cell_type": "code",
   "execution_count": 1,
   "metadata": {},
   "outputs": [],
   "source": [
    "import numpy as np  # Import numpy"
   ]
  },
  {
   "cell_type": "code",
   "execution_count": 2,
   "metadata": {},
   "outputs": [],
   "source": [
    "class Vector(object):\n",
    "    \"\"\"\n",
    "    Similar like the previous chapter examples, we define a Vector class now\n",
    "    \n",
    "    The method names and their work is self explainatory\n",
    "    \"\"\"\n",
    "    def __init__(self, elements: list):\n",
    "        self.vector = np.array(elements)\n",
    "    \n",
    "    def __add__(self, other):\n",
    "        \"\"\"\n",
    "        Over-riding the '+' operation for vectors\n",
    "        \"\"\"\n",
    "        return self.vector + other.vector\n",
    "    \n",
    "    def __radd__(self, other):\n",
    "        \"\"\"\n",
    "        And the reverse add operation as well.\n",
    "        \"\"\"\n",
    "        return self.vector + other\n",
    "    \n",
    "    def scalar_multiply(self, scalar):\n",
    "        return scalar * self.vector\n",
    "    \n",
    "    def additive_inverse(self):\n",
    "        return Vector(self.scalar_multiply(-1)) "
   ]
  },
  {
   "cell_type": "code",
   "execution_count": 3,
   "metadata": {},
   "outputs": [],
   "source": [
    "## Here onwards we test that we have done all the operations properly\n",
    "v1 = Vector([6+3j, 0+0j, 5+1j, 4])"
   ]
  },
  {
   "cell_type": "code",
   "execution_count": 4,
   "metadata": {},
   "outputs": [],
   "source": [
    "v1s = v1.scalar_multiply(3+2j)"
   ]
  },
  {
   "cell_type": "code",
   "execution_count": 5,
   "metadata": {},
   "outputs": [
    {
     "data": {
      "text/plain": [
       "array([12.+21.j,  0. +0.j, 13.+13.j, 12. +8.j])"
      ]
     },
     "execution_count": 5,
     "metadata": {},
     "output_type": "execute_result"
    }
   ],
   "source": [
    "v1s"
   ]
  },
  {
   "cell_type": "code",
   "execution_count": 6,
   "metadata": {},
   "outputs": [],
   "source": [
    "v2 = Vector([6-4j, 7+3j, 4.2-8.1j, 0-3j])"
   ]
  },
  {
   "cell_type": "code",
   "execution_count": 7,
   "metadata": {},
   "outputs": [],
   "source": [
    "v3 = v2.additive_inverse()"
   ]
  },
  {
   "cell_type": "code",
   "execution_count": 8,
   "metadata": {},
   "outputs": [
    {
     "data": {
      "text/plain": [
       "array([0.+0.j, 0.+0.j, 0.+0.j, 0.+0.j])"
      ]
     },
     "execution_count": 8,
     "metadata": {},
     "output_type": "execute_result"
    }
   ],
   "source": [
    "v2 + v3  # This should produce a 0 vector"
   ]
  }
 ],
 "metadata": {
  "kernelspec": {
   "display_name": "Python 3",
   "language": "python",
   "name": "python3"
  },
  "language_info": {
   "codemirror_mode": {
    "name": "ipython",
    "version": 3
   },
   "file_extension": ".py",
   "mimetype": "text/x-python",
   "name": "python",
   "nbconvert_exporter": "python",
   "pygments_lexer": "ipython3",
   "version": "3.6.5"
  }
 },
 "nbformat": 4,
 "nbformat_minor": 2
}
