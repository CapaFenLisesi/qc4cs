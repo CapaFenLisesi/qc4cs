{
 "cells": [
  {
   "cell_type": "markdown",
   "metadata": {},
   "source": [
    "# Programming Drill 2.2.1 Convert your functions from the last programming drill so that instead of accepting elements of $ \\mathbb{C}^n $ they accept elements of $ \\mathbb{C}^{m \\times n} $.\n",
    "\n",
    "Yanofsky, Noson S.. Quantum Computing for Computer Scientists (p. 39). Cambridge University Press. Kindle Edition. "
   ]
  },
  {
   "cell_type": "markdown",
   "metadata": {},
   "source": [
    "Thanks to the `numpy` based implementation of the last exercise, we have very minimal to chagne for this one. Let's go"
   ]
  },
  {
   "cell_type": "code",
   "execution_count": 1,
   "metadata": {},
   "outputs": [],
   "source": [
    "import numpy as np"
   ]
  },
  {
   "cell_type": "code",
   "execution_count": 2,
   "metadata": {},
   "outputs": [],
   "source": [
    "class Vector(object):\n",
    "    \"\"\"\n",
    "    Similar like the previous chapter examples, we define a Vector class now\n",
    "    \n",
    "    The method names and their work is self explainatory\n",
    "    \"\"\"\n",
    "    def __init__(self, elements: list):\n",
    "        self.vector = np.array(elements)\n",
    "    \n",
    "    def __add__(self, other):\n",
    "        \"\"\"\n",
    "        Over-riding the '+' operation for vectors\n",
    "        \"\"\"\n",
    "        return self.vector + other.vector\n",
    "    \n",
    "    def __radd__(self, other):\n",
    "        \"\"\"\n",
    "        And the reverse add operation as well.\n",
    "        \"\"\"\n",
    "        return self.vector + other\n",
    "    \n",
    "    def scalar_multiply(self, scalar):\n",
    "        return scalar * self.vector\n",
    "    \n",
    "    def additive_inverse(self):\n",
    "        return Vector(self.scalar_multiply(-1)) "
   ]
  },
  {
   "cell_type": "code",
   "execution_count": 17,
   "metadata": {},
   "outputs": [],
   "source": [
    "v1 = Vector([[1-1j, 3], [2+2j, 4+1j]])  # Just the shape of the input array changes"
   ]
  },
  {
   "cell_type": "code",
   "execution_count": 18,
   "metadata": {},
   "outputs": [],
   "source": [
    "v2 = v1.additive_inverse()"
   ]
  },
  {
   "cell_type": "code",
   "execution_count": 19,
   "metadata": {},
   "outputs": [
    {
     "data": {
      "text/plain": [
       "array([[-1.+1.j, -3.+0.j],\n",
       "       [-2.-2.j, -4.-1.j]])"
      ]
     },
     "execution_count": 19,
     "metadata": {},
     "output_type": "execute_result"
    }
   ],
   "source": [
    "v2.vector"
   ]
  },
  {
   "cell_type": "code",
   "execution_count": 20,
   "metadata": {},
   "outputs": [],
   "source": [
    "scalar1 = 0+2j"
   ]
  },
  {
   "cell_type": "code",
   "execution_count": 21,
   "metadata": {},
   "outputs": [],
   "source": [
    "scalar2 = 1+2j"
   ]
  },
  {
   "cell_type": "code",
   "execution_count": 22,
   "metadata": {},
   "outputs": [],
   "source": [
    "v3 = v1.scalar_multiply(scalar1)"
   ]
  },
  {
   "cell_type": "code",
   "execution_count": 23,
   "metadata": {},
   "outputs": [
    {
     "data": {
      "text/plain": [
       "array([[ 2.+2.j,  0.+6.j],\n",
       "       [-4.+4.j, -2.+8.j]])"
      ]
     },
     "execution_count": 23,
     "metadata": {},
     "output_type": "execute_result"
    }
   ],
   "source": [
    "v3"
   ]
  },
  {
   "cell_type": "code",
   "execution_count": 25,
   "metadata": {},
   "outputs": [
    {
     "data": {
      "text/plain": [
       "array([[ 3.+1.j,  3.+6.j],\n",
       "       [-2.+6.j,  2.+9.j]])"
      ]
     },
     "execution_count": 25,
     "metadata": {},
     "output_type": "execute_result"
    }
   ],
   "source": [
    "v4 = v1.scalar_multiply(scalar2)\n",
    "v4"
   ]
  },
  {
   "cell_type": "code",
   "execution_count": 26,
   "metadata": {},
   "outputs": [],
   "source": [
    "v5 = v3 + v4"
   ]
  },
  {
   "cell_type": "code",
   "execution_count": 28,
   "metadata": {},
   "outputs": [
    {
     "data": {
      "text/plain": [
       "array([[ 5. +3.j,  3.+12.j],\n",
       "       [-6.+10.j,  0.+17.j]])"
      ]
     },
     "execution_count": 28,
     "metadata": {},
     "output_type": "execute_result"
    }
   ],
   "source": [
    "v5"
   ]
  }
 ],
 "metadata": {
  "kernelspec": {
   "display_name": "Python 3",
   "language": "python",
   "name": "python3"
  },
  "language_info": {
   "codemirror_mode": {
    "name": "ipython",
    "version": 3
   },
   "file_extension": ".py",
   "mimetype": "text/x-python",
   "name": "python",
   "nbconvert_exporter": "python",
   "pygments_lexer": "ipython3",
   "version": "3.6.5"
  }
 },
 "nbformat": 4,
 "nbformat_minor": 2
}
