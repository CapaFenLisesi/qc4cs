{
 "cells": [
  {
   "cell_type": "markdown",
   "metadata": {},
   "source": [
    "# Programming Drill 2.2.3 Write a function that accepts a vector and a matrix and outputs the vector resulting from the“action.”\n",
    "\n",
    "Yanofsky, Noson S.. Quantum Computing for Computer Scientists (p. 42). Cambridge University Press. Kindle Edition. "
   ]
  },
  {
   "cell_type": "markdown",
   "metadata": {},
   "source": [
    "This one is easy. In fact, we do not need to change anything from the last class. It will automatically work. However, this time we will add a check to see if the multiplication is actually possible\n",
    "\n",
    "We also add a method called `dim` which gives us the dimension of the vector\n",
    "\n",
    "We also add a method `t` to make transpose of the vector"
   ]
  },
  {
   "cell_type": "code",
   "execution_count": 42,
   "metadata": {},
   "outputs": [],
   "source": [
    "import numpy as np"
   ]
  },
  {
   "cell_type": "code",
   "execution_count": 135,
   "metadata": {},
   "outputs": [],
   "source": [
    "class Vector(object):\n",
    "    \"\"\"\n",
    "    Similar like the previous chapter examples, we define a Vector class now\n",
    "    \n",
    "    The method names and their work is self explainatory\n",
    "    \"\"\"\n",
    "    def __init__(self, elements: list):\n",
    "        self.vector = np.array(elements)\n",
    "    \n",
    "    def __add__(self, other):\n",
    "        \"\"\"\n",
    "        Over-riding the '+' operation for vectors\n",
    "        \"\"\"\n",
    "        return Vector(self.vector + other.vector)\n",
    "    \n",
    "    def __str__(self):\n",
    "        st = np.array2string(self.vector, separator=',')\n",
    "        \n",
    "        return \"Vector \"+st\n",
    "    \n",
    "    def __radd__(self, other):\n",
    "        \"\"\"\n",
    "        And the reverse add operation as well.\n",
    "        \"\"\"\n",
    "        return Vector(self.vector + other)\n",
    "    \n",
    "    def __mul__(self, other):\n",
    "        \"\"\"\n",
    "        Over-riding the * operation\n",
    "        \"\"\"\n",
    "        rows1, cols1 = self.vector.shape\n",
    "        rows2, cols2 = other.vector.shape\n",
    "        if cols1 != rows2:\n",
    "            print (\"The dimentions {} and {} can not be multiplied\".format(self.vector.shape, other.vector.shape))\n",
    "            return None\n",
    "        return Vector(np.matmul(self.vector, other.vector))\n",
    "    \n",
    "    def scalar_multiply(self, scalar):\n",
    "        return Vector(scalar * self.vector)\n",
    "    \n",
    "    def additive_inverse(self):\n",
    "        return Vector(self.scalar_multiply(-1))\n",
    "    \n",
    "    def dim(self):\n",
    "        return self.vector.shape\n",
    "    \n",
    "    def t(self):\n",
    "        \"\"\"\n",
    "        Stealing from PyTorch :)\n",
    "        \"\"\"\n",
    "        return Vector(self.vector.transpose())"
   ]
  },
  {
   "cell_type": "code",
   "execution_count": 136,
   "metadata": {},
   "outputs": [],
   "source": [
    "A = Vector([[3+2j, 0, 5-6j], [1, 4+2j, 0+1j], [4-1j, 0, 4]])"
   ]
  },
  {
   "cell_type": "code",
   "execution_count": 137,
   "metadata": {},
   "outputs": [
    {
     "data": {
      "text/plain": [
       "(3, 3)"
      ]
     },
     "execution_count": 137,
     "metadata": {},
     "output_type": "execute_result"
    }
   ],
   "source": [
    "A.dim()"
   ]
  },
  {
   "cell_type": "code",
   "execution_count": 138,
   "metadata": {},
   "outputs": [],
   "source": [
    "B = Vector([[2+3j, 5, 6-8j]])"
   ]
  },
  {
   "cell_type": "code",
   "execution_count": 139,
   "metadata": {},
   "outputs": [
    {
     "data": {
      "text/plain": [
       "(1, 3)"
      ]
     },
     "execution_count": 139,
     "metadata": {},
     "output_type": "execute_result"
    }
   ],
   "source": [
    "B.dim()"
   ]
  },
  {
   "cell_type": "code",
   "execution_count": 140,
   "metadata": {},
   "outputs": [],
   "source": [
    "C = A * B.t()"
   ]
  },
  {
   "cell_type": "code",
   "execution_count": 141,
   "metadata": {},
   "outputs": [
    {
     "data": {
      "text/plain": [
       "'Vector [[-18.-63.j],\\n [ 30.+19.j],\\n [ 35.-22.j]]'"
      ]
     },
     "execution_count": 141,
     "metadata": {},
     "output_type": "execute_result"
    }
   ],
   "source": [
    "str(C)"
   ]
  },
  {
   "cell_type": "code",
   "execution_count": 142,
   "metadata": {},
   "outputs": [
    {
     "name": "stdout",
     "output_type": "stream",
     "text": [
      "The dimentions (3, 3) and (1, 3) can not be multiplied\n"
     ]
    }
   ],
   "source": [
    "D = A * B"
   ]
  }
 ],
 "metadata": {
  "kernelspec": {
   "display_name": "Python 3",
   "language": "python",
   "name": "python3"
  },
  "language_info": {
   "codemirror_mode": {
    "name": "ipython",
    "version": 3
   },
   "file_extension": ".py",
   "mimetype": "text/x-python",
   "name": "python",
   "nbconvert_exporter": "python",
   "pygments_lexer": "ipython3",
   "version": "3.6.5"
  }
 },
 "nbformat": 4,
 "nbformat_minor": 2
}
