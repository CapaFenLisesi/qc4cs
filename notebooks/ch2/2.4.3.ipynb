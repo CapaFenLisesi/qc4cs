{
 "cells": [
  {
   "cell_type": "markdown",
   "metadata": {},
   "source": [
    "# Programming Drill 2.4.3 Write a function that calculates the distance of two given complex vectors.\n",
    "\n",
    "Yanofsky, Noson S.. Quantum Computing for Computer Scientists (p. 57). Cambridge University Press. Kindle Edition. "
   ]
  },
  {
   "cell_type": "markdown",
   "metadata": {},
   "source": [
    "We extend, as usual, the previous class and add the norm function to it."
   ]
  },
  {
   "cell_type": "code",
   "execution_count": 1,
   "metadata": {},
   "outputs": [],
   "source": [
    "import numpy as np"
   ]
  },
  {
   "cell_type": "code",
   "execution_count": 59,
   "metadata": {},
   "outputs": [],
   "source": [
    "class Vector(object):\n",
    "    \"\"\"\n",
    "    Similar like the previous chapter examples, we define a Vector class now\n",
    "    \n",
    "    The method names and their work is self explainatory\n",
    "    \"\"\"\n",
    "    def __init__(self, elements: list):\n",
    "        self.vector = np.array(elements)\n",
    "    \n",
    "    def __add__(self, other):\n",
    "        \"\"\"\n",
    "        Over-riding the '+' operation for vectors\n",
    "        \"\"\"\n",
    "        return Vector(self.vector + other.vector)\n",
    "    \n",
    "    def __sub__(self, other):\n",
    "        return Vector(self.vector - other.vector)\n",
    "    \n",
    "    def __str__(self):\n",
    "        st = np.array2string(self.vector, separator=',')\n",
    "        \n",
    "        return \"Vector \"+st\n",
    "    \n",
    "    def __radd__(self, other):\n",
    "        \"\"\"\n",
    "        And the reverse add operation as well.\n",
    "        \"\"\"\n",
    "        return Vector(self.vector + other)\n",
    "    \n",
    "    def __mul__(self, other):\n",
    "        \"\"\"\n",
    "        Over-riding the * operation\n",
    "        \"\"\"\n",
    "        rows1, cols1 = self.vector.shape\n",
    "        rows2, cols2 = other.vector.shape\n",
    "        if cols1 != rows2:\n",
    "            print (\"The dimentions {} and {} can not be multiplied\".format(self.vector.shape, other.vector.shape))\n",
    "            return None\n",
    "        return Vector(np.matmul(self.vector, other.vector))\n",
    "    \n",
    "    def scalar_multiply(self, scalar):\n",
    "        return Vector(scalar * self.vector)\n",
    "    \n",
    "    def additive_inverse(self):\n",
    "        return Vector(self.scalar_multiply(-1))\n",
    "    \n",
    "    def dim(self):\n",
    "        return self.vector.shape\n",
    "    \n",
    "    def t(self):\n",
    "        \"\"\"\n",
    "        Stealing from PyTorch :)\n",
    "        \"\"\"\n",
    "        return Vector(self.vector.transpose())\n",
    "    \n",
    "    def dagger(self):\n",
    "        return Vector(self.vector.transpose().conjugate())\n",
    "    \n",
    "    def inner(self, other):\n",
    "        \"\"\"\n",
    "        By definition it returns a scalar.\n",
    "        \"\"\"\n",
    "        inp = self.dagger() * other\n",
    "        return inp.vector[0, 0]\n",
    "    \n",
    "    def norm(self):\n",
    "        \"\"\"\n",
    "        Using the default Frobenius norm\n",
    "        \"\"\"\n",
    "        return np.linalg.norm(self.vector)\n",
    "    \n",
    "    def dist(self, other):\n",
    "        return (self - other).norm()"
   ]
  },
  {
   "cell_type": "code",
   "execution_count": 60,
   "metadata": {},
   "outputs": [],
   "source": [
    "D = Vector([[3, -6, 2]]).t()"
   ]
  },
  {
   "cell_type": "code",
   "execution_count": 61,
   "metadata": {},
   "outputs": [
    {
     "data": {
      "text/plain": [
       "7.0"
      ]
     },
     "execution_count": 61,
     "metadata": {},
     "output_type": "execute_result"
    }
   ],
   "source": [
    "D.norm()"
   ]
  },
  {
   "cell_type": "code",
   "execution_count": 62,
   "metadata": {},
   "outputs": [],
   "source": [
    "C = Vector([[4+3j, 6-4j, 12-7j, 13j]]).t()"
   ]
  },
  {
   "cell_type": "code",
   "execution_count": 63,
   "metadata": {},
   "outputs": [
    {
     "data": {
      "text/plain": [
       "20.952326839756964"
      ]
     },
     "execution_count": 63,
     "metadata": {},
     "output_type": "execute_result"
    }
   ],
   "source": [
    "C.norm()"
   ]
  },
  {
   "cell_type": "markdown",
   "metadata": {},
   "source": [
    "This is ~ $ \\sqrt{439} $"
   ]
  },
  {
   "cell_type": "code",
   "execution_count": 66,
   "metadata": {},
   "outputs": [],
   "source": [
    "V1 = Vector([[3, 1, 2]])\n",
    "V2 = Vector([[2, 2, -1]])"
   ]
  },
  {
   "cell_type": "code",
   "execution_count": 67,
   "metadata": {},
   "outputs": [
    {
     "data": {
      "text/plain": [
       "3.3166247903554"
      ]
     },
     "execution_count": 67,
     "metadata": {},
     "output_type": "execute_result"
    }
   ],
   "source": [
    "V1.dist(V2)"
   ]
  },
  {
   "cell_type": "markdown",
   "metadata": {},
   "source": [
    "This is ~ $ \\sqrt{11} $"
   ]
  }
 ],
 "metadata": {
  "kernelspec": {
   "display_name": "Python 3",
   "language": "python",
   "name": "python3"
  },
  "language_info": {
   "codemirror_mode": {
    "name": "ipython",
    "version": 3
   },
   "file_extension": ".py",
   "mimetype": "text/x-python",
   "name": "python",
   "nbconvert_exporter": "python",
   "pygments_lexer": "ipython3",
   "version": "3.6.5"
  }
 },
 "nbformat": 4,
 "nbformat_minor": 2
}
