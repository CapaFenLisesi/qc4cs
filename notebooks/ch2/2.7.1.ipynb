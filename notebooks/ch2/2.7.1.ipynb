{
 "cells": [
  {
   "cell_type": "markdown",
   "metadata": {},
   "source": [
    "# Programming Drill 2.7.1 Write a function that accepts two matrices and constructs their tensor product.\n",
    "\n",
    "Yanofsky, Noson S.. Quantum Computing for Computer Scientists (p. 73). Cambridge University Press. Kindle Edition. "
   ]
  },
  {
   "cell_type": "markdown",
   "metadata": {},
   "source": [
    "We will continue from where we left off. We will reuse the last class we created and then add the tensor product (Which is Kroneker's prodict for this case to it)"
   ]
  },
  {
   "cell_type": "code",
   "execution_count": 57,
   "metadata": {},
   "outputs": [],
   "source": [
    "import numpy as np\n",
    "from numba import jit # Not used yet. Coming!"
   ]
  },
  {
   "cell_type": "code",
   "execution_count": 58,
   "metadata": {},
   "outputs": [],
   "source": [
    "class Vector(object):\n",
    "    \"\"\"\n",
    "    Similar like the previous chapter examples, we define a Vector class now\n",
    "    \n",
    "    The method names and their work is self explainatory\n",
    "    \"\"\"\n",
    "    def __init__(self, elements: list):\n",
    "        self.vector = np.array(elements)\n",
    "    \n",
    "    def __add__(self, other):\n",
    "        \"\"\"\n",
    "        Over-riding the '+' operation for vectors\n",
    "        \"\"\"\n",
    "        return Vector(self.vector + other.vector)\n",
    "    \n",
    "    def __sub__(self, other):\n",
    "        return Vector(self.vector - other.vector)\n",
    "    \n",
    "    def __str__(self):\n",
    "        st = np.array2string(self.vector, separator=',')\n",
    "        \n",
    "        return \"Vector \"+st\n",
    "    \n",
    "    def __radd__(self, other):\n",
    "        \"\"\"\n",
    "        And the reverse add operation as well.\n",
    "        \"\"\"\n",
    "        return Vector(self.vector + other)\n",
    "    \n",
    "    def __mul__(self, other):\n",
    "        \"\"\"\n",
    "        Over-riding the * operation\n",
    "        \"\"\"\n",
    "        rows1, cols1 = self.vector.shape\n",
    "        rows2, cols2 = other.vector.shape\n",
    "        if cols1 != rows2:\n",
    "            print (\"The dimentions {} and {} can not be multiplied\".format(self.vector.shape, other.vector.shape))\n",
    "            return None\n",
    "        return Vector(np.matmul(self.vector, other.vector))\n",
    "    \n",
    "    def __eq__(self, other):\n",
    "        return (self.vector == other.vector).all()\n",
    "    \n",
    "    def scalar_multiply(self, scalar):\n",
    "        return Vector(scalar * self.vector)\n",
    "    \n",
    "    def additive_inverse(self):\n",
    "        return Vector(self.scalar_multiply(-1))\n",
    "    \n",
    "    def dim(self):\n",
    "        return self.vector.shape\n",
    "    \n",
    "    def t(self):\n",
    "        \"\"\"\n",
    "        Stealing from PyTorch :)\n",
    "        \"\"\"\n",
    "        return Vector(self.vector.transpose())\n",
    "    \n",
    "    def dagger(self):\n",
    "        return Vector(self.vector.transpose().conjugate())\n",
    "    \n",
    "    def inner(self, other):\n",
    "        \"\"\"\n",
    "        By definition it returns a scalar.\n",
    "        \"\"\"\n",
    "        inp = self.dagger() * other\n",
    "        return inp.vector[0, 0]\n",
    "    \n",
    "    def norm(self):\n",
    "        \"\"\"\n",
    "        Using the default Frobenius norm\n",
    "        \"\"\"\n",
    "        return np.linalg.norm(self.vector)\n",
    "    \n",
    "    def dist(self, other):\n",
    "        return (self - other).norm()\n",
    "    \n",
    "    def is_hermitian(self):\n",
    "        \"\"\"\n",
    "        Using numpy `allclose` is a better option due to floating point artihmatic\n",
    "        \"\"\"\n",
    "        daggered = self.dagger()\n",
    "        return (self.vector == daggered.vector).all()\n",
    "    \n",
    "    def is_unitary(self):\n",
    "        rows, cols = self.vector.shape\n",
    "        if rows != cols:\n",
    "            print(\"Can not check unitary on non square matrix\")\n",
    "            return False\n",
    "        u_udag = self * self.dagger()\n",
    "        udag_u = self.dagger() * self\n",
    "        identity = np.identity(rows, dtype=np.complex128)\n",
    "        return (np.allclose(u_udag.vector, identity) and np.allclose(udag_u.vector, identity))\n",
    "\n",
    "    def tensor_product(self, other):\n",
    "        return Vector(np.kron(self.vector, other.vector))"
   ]
  },
  {
   "cell_type": "markdown",
   "metadata": {},
   "source": [
    "Let's do one exercise (2.7.7)"
   ]
  },
  {
   "cell_type": "code",
   "execution_count": 59,
   "metadata": {},
   "outputs": [],
   "source": [
    "A = Vector([[2, 3]])\n",
    "B = Vector([[1, 2], [3, 4]])"
   ]
  },
  {
   "cell_type": "code",
   "execution_count": 60,
   "metadata": {},
   "outputs": [],
   "source": [
    "C = (A.tensor_product(B)).dagger()"
   ]
  },
  {
   "cell_type": "code",
   "execution_count": 61,
   "metadata": {},
   "outputs": [],
   "source": [
    "D = A.dagger().tensor_product(B.dagger())"
   ]
  },
  {
   "cell_type": "code",
   "execution_count": 62,
   "metadata": {},
   "outputs": [],
   "source": [
    "assert C == D"
   ]
  }
 ],
 "metadata": {
  "kernelspec": {
   "display_name": "Python 3",
   "language": "python",
   "name": "python3"
  },
  "language_info": {
   "codemirror_mode": {
    "name": "ipython",
    "version": 3
   },
   "file_extension": ".py",
   "mimetype": "text/x-python",
   "name": "python",
   "nbconvert_exporter": "python",
   "pygments_lexer": "ipython3",
   "version": "3.6.5"
  }
 },
 "nbformat": 4,
 "nbformat_minor": 2
}
