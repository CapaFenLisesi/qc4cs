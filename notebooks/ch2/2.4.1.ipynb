{
 "cells": [
  {
   "cell_type": "markdown",
   "metadata": {},
   "source": [
    "# Programming Drill 2.4.1 Write a function that accepts two complex vectors of length n and calculates their inner product.\n",
    "\n",
    "Yanofsky, Noson S.. Quantum Computing for Computer Scientists (p. 55). Cambridge University Press. Kindle Edition. "
   ]
  },
  {
   "cell_type": "markdown",
   "metadata": {},
   "source": [
    "We will continue from where we left off in the last drill. We will re-use the class. And then we will define the `dagger` operation on a complex vector (which is the transpose conjugate of the vector) and use that to calculate the inner product of two complex vectors of length (dimension) n\n",
    "\n",
    "Reminder - \n",
    "\n",
    "The innder product that is defined over $ \\mathbb{C}^n $ as following\n",
    "\n",
    "$ \\langle V_1|V_2 \\rangle $ = $ V_1^\\dagger * V_2 $ "
   ]
  },
  {
   "cell_type": "code",
   "execution_count": 2,
   "metadata": {},
   "outputs": [],
   "source": [
    "import numpy as np"
   ]
  },
  {
   "cell_type": "code",
   "execution_count": 3,
   "metadata": {},
   "outputs": [],
   "source": [
    "class Vector(object):\n",
    "    \"\"\"\n",
    "    Similar like the previous chapter examples, we define a Vector class now\n",
    "    \n",
    "    The method names and their work is self explainatory\n",
    "    \"\"\"\n",
    "    def __init__(self, elements: list):\n",
    "        self.vector = np.array(elements)\n",
    "    \n",
    "    def __add__(self, other):\n",
    "        \"\"\"\n",
    "        Over-riding the '+' operation for vectors\n",
    "        \"\"\"\n",
    "        return Vector(self.vector + other.vector)\n",
    "    \n",
    "    def __str__(self):\n",
    "        st = np.array2string(self.vector, separator=',')\n",
    "        \n",
    "        return \"Vector \"+st\n",
    "    \n",
    "    def __radd__(self, other):\n",
    "        \"\"\"\n",
    "        And the reverse add operation as well.\n",
    "        \"\"\"\n",
    "        return Vector(self.vector + other)\n",
    "    \n",
    "    def __mul__(self, other):\n",
    "        \"\"\"\n",
    "        Over-riding the * operation\n",
    "        \"\"\"\n",
    "        rows1, cols1 = self.vector.shape\n",
    "        rows2, cols2 = other.vector.shape\n",
    "        if cols1 != rows2:\n",
    "            print (\"The dimentions {} and {} can not be multiplied\".format(self.vector.shape, other.vector.shape))\n",
    "            return None\n",
    "        return Vector(np.matmul(self.vector, other.vector))\n",
    "    \n",
    "    def scalar_multiply(self, scalar):\n",
    "        return Vector(scalar * self.vector)\n",
    "    \n",
    "    def additive_inverse(self):\n",
    "        return Vector(self.scalar_multiply(-1))\n",
    "    \n",
    "    def dim(self):\n",
    "        return self.vector.shape\n",
    "    \n",
    "    def t(self):\n",
    "        \"\"\"\n",
    "        Stealing from PyTorch :)\n",
    "        \"\"\"\n",
    "        return Vector(self.vector.transpose())\n",
    "    \n",
    "    def dagger(self):\n",
    "        return Vector(self.vector.transpose().conjugate())\n",
    "    \n",
    "    def inner(self, other):\n",
    "        \"\"\"\n",
    "        By definition it returns a scalar.\n",
    "        \"\"\"\n",
    "        inp = self.dagger() * other\n",
    "        return inp.vector[0, 0]"
   ]
  },
  {
   "cell_type": "code",
   "execution_count": 4,
   "metadata": {},
   "outputs": [],
   "source": [
    "B = Vector([[2+3j, 5, 6-8j]]).t()"
   ]
  },
  {
   "cell_type": "code",
   "execution_count": 5,
   "metadata": {},
   "outputs": [],
   "source": [
    "res = B.inner(B)"
   ]
  },
  {
   "cell_type": "code",
   "execution_count": 6,
   "metadata": {},
   "outputs": [
    {
     "data": {
      "text/plain": [
       "(138+0j)"
      ]
     },
     "execution_count": 6,
     "metadata": {},
     "output_type": "execute_result"
    }
   ],
   "source": [
    "res"
   ]
  },
  {
   "cell_type": "code",
   "execution_count": 7,
   "metadata": {},
   "outputs": [],
   "source": [
    "C = Vector([[4-0j, 3+5j, 9-3j]]).t()"
   ]
  },
  {
   "cell_type": "code",
   "execution_count": 8,
   "metadata": {},
   "outputs": [],
   "source": [
    "res2 = B.inner(C)"
   ]
  },
  {
   "cell_type": "code",
   "execution_count": 9,
   "metadata": {},
   "outputs": [
    {
     "data": {
      "text/plain": [
       "(101+67j)"
      ]
     },
     "execution_count": 9,
     "metadata": {},
     "output_type": "execute_result"
    }
   ],
   "source": [
    "res2"
   ]
  },
  {
   "cell_type": "code",
   "execution_count": 10,
   "metadata": {},
   "outputs": [
    {
     "data": {
      "text/plain": [
       "numpy.complex128"
      ]
     },
     "execution_count": 10,
     "metadata": {},
     "output_type": "execute_result"
    }
   ],
   "source": [
    "type(res2)"
   ]
  },
  {
   "cell_type": "code",
   "execution_count": 11,
   "metadata": {},
   "outputs": [],
   "source": [
    "D = Vector([[3, -6, 2]]).t()"
   ]
  },
  {
   "cell_type": "code",
   "execution_count": 12,
   "metadata": {},
   "outputs": [
    {
     "data": {
      "text/plain": [
       "49"
      ]
     },
     "execution_count": 12,
     "metadata": {},
     "output_type": "execute_result"
    }
   ],
   "source": [
    "D.inner(D)"
   ]
  },
  {
   "cell_type": "markdown",
   "metadata": {},
   "source": [
    "What does the result tell us? Well, it sure as hell tells us that $ \\mathbb{C}^n $ is also $ \\mathbb{R}^n $\n",
    "\n",
    "But if we define the innder product as per the denition of inner product in  $ \\mathbb{R}^n $ which is\n",
    "\n",
    "$ \\langle V_1|V_2 \\rangle $ = $ V_1^T * V_2 $ for $ V_1, V_2 \\in \\mathbb{R}^n $ and try to apply that to for $ V_1, V_2 \\in \\mathbb{C}^n $ then the result will be worng. As there is no obvious way to transform $ \\mathbb{R}^n $ to $ \\mathbb{C}^n $\n",
    "\n",
    "Which means, by definfing the inner product on $ \\mathbb{C}^n $ we are actually done with defnining it for the sub field $ \\mathbb{R}^n $"
   ]
  }
 ],
 "metadata": {
  "kernelspec": {
   "display_name": "Python 3",
   "language": "python",
   "name": "python3"
  },
  "language_info": {
   "codemirror_mode": {
    "name": "ipython",
    "version": 3
   },
   "file_extension": ".py",
   "mimetype": "text/x-python",
   "name": "python",
   "nbconvert_exporter": "python",
   "pygments_lexer": "ipython3",
   "version": "3.6.5"
  }
 },
 "nbformat": 4,
 "nbformat_minor": 2
}
