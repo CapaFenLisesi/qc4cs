{
 "cells": [
  {
   "cell_type": "markdown",
   "metadata": {},
   "source": [
    "# Programming Drill 1.1.1 Write a program that accepts two complex numbers and outputs their sum and their product.\n",
    "\n",
    "Yanofsky, Noson S.. Quantum Computing for Computer Scientists (pp. 9-10). Cambridge University Press. Kindle Edition. "
   ]
  },
  {
   "cell_type": "markdown",
   "metadata": {},
   "source": [
    "As the title suggests, we need to write a program which accepts two complex numbers and then adds and sums them.\n",
    "\n",
    "We will define a class called `Complex` and do that and implement it using Python's built-in `complex` function.\n",
    "\n",
    "_We are representing complex number as an ordered tuple here, which, actually have been introduced after this exercise._"
   ]
  },
  {
   "cell_type": "code",
   "execution_count": 5,
   "metadata": {},
   "outputs": [],
   "source": [
    "class Complex(object):\n",
    "    \n",
    "    def __init__(self, a, b):\n",
    "        self.a = a\n",
    "        self.b = b\n",
    "        self.cmplx = complex(a, b)\n",
    "    \n",
    "    def add(self, other):\n",
    "        return self.cmplx + other.cmplx\n",
    "    \n",
    "    def mul(self, other):\n",
    "        return self.cmplx * other.cmplx"
   ]
  },
  {
   "cell_type": "code",
   "execution_count": 10,
   "metadata": {},
   "outputs": [],
   "source": [
    "c1 = Complex(3, -2)\n",
    "c2 = Complex(1, 2)\n"
   ]
  },
  {
   "cell_type": "code",
   "execution_count": 11,
   "metadata": {},
   "outputs": [
    {
     "data": {
      "text/plain": [
       "(4+0j)"
      ]
     },
     "execution_count": 11,
     "metadata": {},
     "output_type": "execute_result"
    }
   ],
   "source": [
    "c1.add(c2)"
   ]
  },
  {
   "cell_type": "code",
   "execution_count": 12,
   "metadata": {},
   "outputs": [
    {
     "data": {
      "text/plain": [
       "(7+4j)"
      ]
     },
     "execution_count": 12,
     "metadata": {},
     "output_type": "execute_result"
    }
   ],
   "source": [
    "c1.mul(c2)"
   ]
  },
  {
   "cell_type": "markdown",
   "metadata": {},
   "source": [
    "The good part of creating our own class is that in future we can re-write the underlying algo of adding and multiplying by us (directly implementing the rule stated later in the chapter) yet none of the piece of code that is built using our `Complex` class need to change"
   ]
  },
  {
   "cell_type": "code",
   "execution_count": null,
   "metadata": {},
   "outputs": [],
   "source": []
  }
 ],
 "metadata": {
  "kernelspec": {
   "display_name": "Python 3",
   "language": "python",
   "name": "python3"
  },
  "language_info": {
   "codemirror_mode": {
    "name": "ipython",
    "version": 3
   },
   "file_extension": ".py",
   "mimetype": "text/x-python",
   "name": "python",
   "nbconvert_exporter": "python",
   "pygments_lexer": "ipython3",
   "version": "3.6.5"
  }
 },
 "nbformat": 4,
 "nbformat_minor": 2
}
