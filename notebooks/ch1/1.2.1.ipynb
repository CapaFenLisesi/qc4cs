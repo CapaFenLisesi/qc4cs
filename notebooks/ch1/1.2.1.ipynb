{
 "cells": [
  {
   "cell_type": "markdown",
   "metadata": {},
   "source": [
    "# Programming Drill 1.2.1 Take the program that you wrote in the last programming drill and make it also perform subtraction and division of complex numbers. In addition, let the user enter a complex number and have the computer return its modulus and conjugate.\n",
    "\n",
    "Yanofsky, Noson S.. Quantum Computing for Computer Scientists (p. 15). Cambridge University Press. Kindle Edition. "
   ]
  },
  {
   "cell_type": "markdown",
   "metadata": {},
   "source": [
    "So here in this drill we will take the class we had created in 1.1.1 and extend it to include substraction and division. We will use the built-in Python functions (and operators) and will write the algo by ourselvs also.\n",
    "\n",
    "Apart from that we will also make it return the modulus and conjugate."
   ]
  },
  {
   "cell_type": "code",
   "execution_count": 25,
   "metadata": {},
   "outputs": [],
   "source": [
    "class Complex(object):\n",
    "    \n",
    "    def __init__(self, a, b):\n",
    "        self.a = a\n",
    "        self.b = b\n",
    "        self.cmplx = complex(a, b)\n",
    "    \n",
    "    def add(self, other):\n",
    "        return self.cmplx + other.cmplx\n",
    "    \n",
    "    def mul(self, other):\n",
    "        return self.cmplx * other.cmplx\n",
    "    \n",
    "    def sub(self, other):\n",
    "        return self.cmplx - other.cmplx\n",
    "    \n",
    "    def div(self, other):\n",
    "        return self.cmplx / other.cmplx\n",
    "    \n",
    "    def mod(self):\n",
    "        return abs(self.cmplx)\n",
    "    \n",
    "    def conj(self):\n",
    "        \"\"\"We call is `conj` instead of conjugate in order to avoid the namespace collision\"\"\"\n",
    "        return self.cmplx.conjugate()"
   ]
  },
  {
   "cell_type": "code",
   "execution_count": 26,
   "metadata": {},
   "outputs": [],
   "source": [
    "c1 = Complex(1, -1)"
   ]
  },
  {
   "cell_type": "code",
   "execution_count": 27,
   "metadata": {},
   "outputs": [
    {
     "data": {
      "text/plain": [
       "1.4142135623730951"
      ]
     },
     "execution_count": 27,
     "metadata": {},
     "output_type": "execute_result"
    }
   ],
   "source": [
    "c1.mod()"
   ]
  },
  {
   "cell_type": "markdown",
   "metadata": {},
   "source": [
    "The above is $ \\sqrt(2) $"
   ]
  },
  {
   "cell_type": "code",
   "execution_count": 28,
   "metadata": {},
   "outputs": [
    {
     "data": {
      "text/plain": [
       "(1+1j)"
      ]
     },
     "execution_count": 28,
     "metadata": {},
     "output_type": "execute_result"
    }
   ],
   "source": [
    "c1.conj()"
   ]
  },
  {
   "cell_type": "code",
   "execution_count": 29,
   "metadata": {},
   "outputs": [],
   "source": [
    "c2 = Complex(-2, 1)\n",
    "c3 = Complex(1, 2)"
   ]
  },
  {
   "cell_type": "code",
   "execution_count": 30,
   "metadata": {},
   "outputs": [
    {
     "data": {
      "text/plain": [
       "1j"
      ]
     },
     "execution_count": 30,
     "metadata": {},
     "output_type": "execute_result"
    }
   ],
   "source": [
    "c2.div(c3)"
   ]
  },
  {
   "cell_type": "markdown",
   "metadata": {},
   "source": [
    "We know that in Python `j` stands for `i` and thus the above just means `i` in normal notation."
   ]
  },
  {
   "cell_type": "code",
   "execution_count": 31,
   "metadata": {},
   "outputs": [
    {
     "data": {
      "text/plain": [
       "(-3-1j)"
      ]
     },
     "execution_count": 31,
     "metadata": {},
     "output_type": "execute_result"
    }
   ],
   "source": [
    "c2.sub(c3)"
   ]
  },
  {
   "cell_type": "markdown",
   "metadata": {},
   "source": [
    "This performs all the asked for operations on complex number. And with this class we are now ready to tackle any algebric operartions on complex number. We can also represent complex numbers using 2 X 2 matrices and we will explore that idea in the bonus notebook under this chaper. (The way of representing complex numbers as matrices are not introduced in the book. This is more an approach of a number theorist. However, it is fun to do.)"
   ]
  }
 ],
 "metadata": {
  "kernelspec": {
   "display_name": "Python 3",
   "language": "python",
   "name": "python3"
  },
  "language_info": {
   "codemirror_mode": {
    "name": "ipython",
    "version": 3
   },
   "file_extension": ".py",
   "mimetype": "text/x-python",
   "name": "python",
   "nbconvert_exporter": "python",
   "pygments_lexer": "ipython3",
   "version": "3.6.5"
  }
 },
 "nbformat": 4,
 "nbformat_minor": 2
}
