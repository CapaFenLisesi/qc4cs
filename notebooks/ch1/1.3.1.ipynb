{
 "cells": [
  {
   "cell_type": "markdown",
   "metadata": {},
   "source": [
    "# Programming Drill 1.3.1 Write a program that converts a complex number from its Cartesian representation to its polar representation and vice versa.\n",
    "\n",
    "Yanofsky, Noson S.. Quantum Computing for Computer Scientists (p. 18). Cambridge University Press. Kindle Edition. "
   ]
  },
  {
   "cell_type": "markdown",
   "metadata": {},
   "source": [
    "Borrowing from the previous code blocks. We extend the concept of out complex number class further in this one to accomplish what has been asked.\n",
    "\n",
    "We will be using `cmath` for this."
   ]
  },
  {
   "cell_type": "code",
   "execution_count": 8,
   "metadata": {},
   "outputs": [],
   "source": [
    "from cmath import polar, rect\n",
    "\n",
    "class Complex(object):\n",
    "    \n",
    "    def __init__(self, a, b):\n",
    "        self.a = a\n",
    "        self.b = b\n",
    "        self.cmplx = complex(a, b)\n",
    "        self.plr = None\n",
    "    \n",
    "    def add(self, other):\n",
    "        return self.cmplx + other.cmplx\n",
    "    \n",
    "    def mul(self, other):\n",
    "        return self.cmplx * other.cmplx\n",
    "    \n",
    "    def sub(self, other):\n",
    "        return self.cmplx - other.cmplx\n",
    "    \n",
    "    def div(self, other):\n",
    "        return self.cmplx / other.cmplx\n",
    "    \n",
    "    def mod(self):\n",
    "        return abs(self.cmplx)\n",
    "    \n",
    "    def conj(self):\n",
    "        \"\"\"We call is `conj` instead of conjugate in order to avoid the namespace collision\"\"\"\n",
    "        return self.cmplx.conjugate()\n",
    "    \n",
    "    def to_polar(self):\n",
    "        self.plr = polar(self.cmplx)\n",
    "        return self.plr\n",
    "    \n",
    "    def in_cartesian(self):\n",
    "        r, phi = self.plr\n",
    "        return rect(r, phi)"
   ]
  },
  {
   "cell_type": "code",
   "execution_count": 9,
   "metadata": {},
   "outputs": [],
   "source": [
    "c1 = Complex(1, 1)"
   ]
  },
  {
   "cell_type": "code",
   "execution_count": 10,
   "metadata": {},
   "outputs": [
    {
     "name": "stdout",
     "output_type": "stream",
     "text": [
      "(1.4142135623730951, 0.7853981633974483)\n"
     ]
    }
   ],
   "source": [
    "print(c1.to_polar())"
   ]
  },
  {
   "cell_type": "markdown",
   "metadata": {},
   "source": [
    "The above is the represntation of ($ \\sqrt(2) $, $ \\pi/4 $)"
   ]
  },
  {
   "cell_type": "code",
   "execution_count": 11,
   "metadata": {},
   "outputs": [
    {
     "data": {
      "text/plain": [
       "(1.0000000000000002+1j)"
      ]
     },
     "execution_count": 11,
     "metadata": {},
     "output_type": "execute_result"
    }
   ],
   "source": [
    "c1.in_cartesian()"
   ]
  },
  {
   "cell_type": "markdown",
   "metadata": {},
   "source": [
    "Notice that we did not get back exactly (1+1j)! What happened? Well this is something very unique to the floating point representation. We can safely ignore it at this momemnt. We can, if fact, cast the real part in integer if we really want to. Like so - "
   ]
  },
  {
   "cell_type": "code",
   "execution_count": 12,
   "metadata": {},
   "outputs": [],
   "source": [
    "def cartesian(polar):\n",
    "    r, phi = polar\n",
    "    cratesian_complex_number = rect(r, phi)\n",
    "    return complex(int(cratesian_complex_number.real), cratesian_complex_number.imag)"
   ]
  },
  {
   "cell_type": "code",
   "execution_count": 13,
   "metadata": {},
   "outputs": [
    {
     "data": {
      "text/plain": [
       "(1+1j)"
      ]
     },
     "execution_count": 13,
     "metadata": {},
     "output_type": "execute_result"
    }
   ],
   "source": [
    "cartesian((1.4142135623730951, 0.7853981633974483))"
   ]
  },
  {
   "cell_type": "markdown",
   "metadata": {},
   "source": [
    "__Voila!__"
   ]
  }
 ],
 "metadata": {
  "kernelspec": {
   "display_name": "Python 3",
   "language": "python",
   "name": "python3"
  },
  "language_info": {
   "codemirror_mode": {
    "name": "ipython",
    "version": 3
   },
   "file_extension": ".py",
   "mimetype": "text/x-python",
   "name": "python",
   "nbconvert_exporter": "python",
   "pygments_lexer": "ipython3",
   "version": "3.6.5"
  }
 },
 "nbformat": 4,
 "nbformat_minor": 2
}
